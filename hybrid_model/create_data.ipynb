{
 "cells": [
  {
   "cell_type": "code",
   "execution_count": 14,
   "metadata": {},
   "outputs": [],
   "source": [
    "import pandas as pd\n",
    "import re\n",
    "\n",
    "train_df = pd.read_csv('data/train.csv')\n",
    "corpus_df = pd.read_csv('data/corpus.csv')"
   ]
  },
  {
   "cell_type": "code",
   "execution_count": 15,
   "metadata": {},
   "outputs": [
    {
     "name": "stdout",
     "output_type": "stream",
     "text": [
      "{'157147', '225897', '107336', '65243', '214113', '45084', '76042', '39001', '68365', '62492', '31677', '161160', '92952', '73585', '179078', '151154', '70889', '31682', '14529', '75071', '64594'}\n"
     ]
    }
   ],
   "source": [
    "train1_df = train_df.head(20)\n",
    "\n",
    "train1_cids = set()\n",
    "for cid in train1_df['cid']:\n",
    "    ids = re.findall(r'\\d+', cid)\n",
    "    train1_cids.update(ids)\n",
    "print(train1_cids)"
   ]
  },
  {
   "cell_type": "code",
   "execution_count": 16,
   "metadata": {},
   "outputs": [],
   "source": [
    "train1_cids = {str(cid) for cid in train1_cids}\n",
    "corpus_df['cid'] = corpus_df['cid'].astype(str)"
   ]
  },
  {
   "cell_type": "code",
   "execution_count": 17,
   "metadata": {},
   "outputs": [
    {
     "data": {
      "text/html": [
       "<div>\n",
       "<style scoped>\n",
       "    .dataframe tbody tr th:only-of-type {\n",
       "        vertical-align: middle;\n",
       "    }\n",
       "\n",
       "    .dataframe tbody tr th {\n",
       "        vertical-align: top;\n",
       "    }\n",
       "\n",
       "    .dataframe thead th {\n",
       "        text-align: right;\n",
       "    }\n",
       "</style>\n",
       "<table border=\"1\" class=\"dataframe\">\n",
       "  <thead>\n",
       "    <tr style=\"text-align: right;\">\n",
       "      <th></th>\n",
       "      <th>text</th>\n",
       "      <th>cid</th>\n",
       "    </tr>\n",
       "  </thead>\n",
       "  <tbody>\n",
       "    <tr>\n",
       "      <th>13460</th>\n",
       "      <td>Trình tự, thủ tục cung cấp thông tin khách hàn...</td>\n",
       "      <td>14529</td>\n",
       "    </tr>\n",
       "    <tr>\n",
       "      <th>28717</th>\n",
       "      <td>\"Điều 10. Sửa đổi, bổ sung, thay thế hương ước...</td>\n",
       "      <td>31677</td>\n",
       "    </tr>\n",
       "    <tr>\n",
       "      <th>28722</th>\n",
       "      <td>\"Điều 15. Tạm ngừng thực hiện hương ước, quy ư...</td>\n",
       "      <td>31682</td>\n",
       "    </tr>\n",
       "    <tr>\n",
       "      <th>35315</th>\n",
       "      <td>\"Điều 17. Chế độ báo cáo\\n1. Báo cáo định kỳ: ...</td>\n",
       "      <td>39001</td>\n",
       "    </tr>\n",
       "    <tr>\n",
       "      <th>40637</th>\n",
       "      <td>Cơ sở công nghiệp quốc phòng\\n1. Tiêu chí để đ...</td>\n",
       "      <td>45084</td>\n",
       "    </tr>\n",
       "    <tr>\n",
       "      <th>55767</th>\n",
       "      <td>Khả năng học tập, nâng cao trình độ\\n- Khối lư...</td>\n",
       "      <td>62492</td>\n",
       "    </tr>\n",
       "    <tr>\n",
       "      <th>57151</th>\n",
       "      <td>\"Điều 154. Người lao động nước ngoài làm việc ...</td>\n",
       "      <td>64594</td>\n",
       "    </tr>\n",
       "    <tr>\n",
       "      <th>57556</th>\n",
       "      <td>Điều kiện và mức rút ngắn thời gian thử thách ...</td>\n",
       "      <td>65243</td>\n",
       "    </tr>\n",
       "    <tr>\n",
       "      <th>59502</th>\n",
       "      <td>Nguyên tắc áp dụng\\n1. Trường hợp công chức, v...</td>\n",
       "      <td>68365</td>\n",
       "    </tr>\n",
       "    <tr>\n",
       "      <th>60962</th>\n",
       "      <td>2. BỘT CẲNG - BÀN TAY\\nIV. CHUẨN BỊ\\n...\\n2. P...</td>\n",
       "      <td>70889</td>\n",
       "    </tr>\n",
       "    <tr>\n",
       "      <th>62527</th>\n",
       "      <td>Vị trí việc làm sau khi tốt nghiệp\\nSau khi tô...</td>\n",
       "      <td>73585</td>\n",
       "    </tr>\n",
       "    <tr>\n",
       "      <th>63361</th>\n",
       "      <td>\"Điều 20. Ưu đãi về thời gian miễn thuế, giảm ...</td>\n",
       "      <td>75071</td>\n",
       "    </tr>\n",
       "    <tr>\n",
       "      <th>63892</th>\n",
       "      <td>\"Điều 87. Mức đóng và phương thức đóng của ngư...</td>\n",
       "      <td>76042</td>\n",
       "    </tr>\n",
       "    <tr>\n",
       "      <th>72346</th>\n",
       "      <td>Giải thích từ ngữ\\nTrong Nghị định này, các từ...</td>\n",
       "      <td>92952</td>\n",
       "    </tr>\n",
       "    <tr>\n",
       "      <th>78722</th>\n",
       "      <td>Chính sách rủi ro\\nHàng năm, công ty chứng kho...</td>\n",
       "      <td>107336</td>\n",
       "    </tr>\n",
       "    <tr>\n",
       "      <th>95402</th>\n",
       "      <td>Nội dung lồng ghép vấn đề bình đẳng giới trong...</td>\n",
       "      <td>151154</td>\n",
       "    </tr>\n",
       "    <tr>\n",
       "      <th>97423</th>\n",
       "      <td>Điều kiện về nhân sự vận hành, quản trị hệ thố...</td>\n",
       "      <td>157147</td>\n",
       "    </tr>\n",
       "    <tr>\n",
       "      <th>98788</th>\n",
       "      <td>Chi phí\\nChi phí của Ngân hàng bao gồm các kho...</td>\n",
       "      <td>161160</td>\n",
       "    </tr>\n",
       "    <tr>\n",
       "      <th>104484</th>\n",
       "      <td>Lập kế hoạch và lựa chọn đơn vị tổ chức huấn l...</td>\n",
       "      <td>179078</td>\n",
       "    </tr>\n",
       "    <tr>\n",
       "      <th>114922</th>\n",
       "      <td>Trách nhiệm của cơ quan quản lý nhà nước về bì...</td>\n",
       "      <td>214113</td>\n",
       "    </tr>\n",
       "    <tr>\n",
       "      <th>118323</th>\n",
       "      <td>Điều kiện được hưởng\\nCán bộ quản lý, giáo viê...</td>\n",
       "      <td>225897</td>\n",
       "    </tr>\n",
       "  </tbody>\n",
       "</table>\n",
       "</div>"
      ],
      "text/plain": [
       "                                                     text     cid\n",
       "13460   Trình tự, thủ tục cung cấp thông tin khách hàn...   14529\n",
       "28717   \"Điều 10. Sửa đổi, bổ sung, thay thế hương ước...   31677\n",
       "28722   \"Điều 15. Tạm ngừng thực hiện hương ước, quy ư...   31682\n",
       "35315   \"Điều 17. Chế độ báo cáo\\n1. Báo cáo định kỳ: ...   39001\n",
       "40637   Cơ sở công nghiệp quốc phòng\\n1. Tiêu chí để đ...   45084\n",
       "55767   Khả năng học tập, nâng cao trình độ\\n- Khối lư...   62492\n",
       "57151   \"Điều 154. Người lao động nước ngoài làm việc ...   64594\n",
       "57556   Điều kiện và mức rút ngắn thời gian thử thách ...   65243\n",
       "59502   Nguyên tắc áp dụng\\n1. Trường hợp công chức, v...   68365\n",
       "60962   2. BỘT CẲNG - BÀN TAY\\nIV. CHUẨN BỊ\\n...\\n2. P...   70889\n",
       "62527   Vị trí việc làm sau khi tốt nghiệp\\nSau khi tô...   73585\n",
       "63361   \"Điều 20. Ưu đãi về thời gian miễn thuế, giảm ...   75071\n",
       "63892   \"Điều 87. Mức đóng và phương thức đóng của ngư...   76042\n",
       "72346   Giải thích từ ngữ\\nTrong Nghị định này, các từ...   92952\n",
       "78722   Chính sách rủi ro\\nHàng năm, công ty chứng kho...  107336\n",
       "95402   Nội dung lồng ghép vấn đề bình đẳng giới trong...  151154\n",
       "97423   Điều kiện về nhân sự vận hành, quản trị hệ thố...  157147\n",
       "98788   Chi phí\\nChi phí của Ngân hàng bao gồm các kho...  161160\n",
       "104484  Lập kế hoạch và lựa chọn đơn vị tổ chức huấn l...  179078\n",
       "114922  Trách nhiệm của cơ quan quản lý nhà nước về bì...  214113\n",
       "118323  Điều kiện được hưởng\\nCán bộ quản lý, giáo viê...  225897"
      ]
     },
     "execution_count": 17,
     "metadata": {},
     "output_type": "execute_result"
    }
   ],
   "source": [
    "corpus1_df = corpus_df[corpus_df['cid'].isin(train1_cids)]\n",
    "corpus1_df"
   ]
  },
  {
   "cell_type": "code",
   "execution_count": 18,
   "metadata": {},
   "outputs": [
    {
     "name": "stdout",
     "output_type": "stream",
     "text": [
      "train1.csv and corpus1.csv have been created successfully.\n"
     ]
    }
   ],
   "source": [
    "train1_df.to_csv('data/train1.csv', index=False)\n",
    "corpus1_df.to_csv('data/corpus1.csv', index=False)\n",
    "\n",
    "print(\"train1.csv and corpus1.csv have been created successfully.\")"
   ]
  },
  {
   "cell_type": "code",
   "execution_count": null,
   "metadata": {},
   "outputs": [],
   "source": []
  }
 ],
 "metadata": {
  "kernelspec": {
   "display_name": "base",
   "language": "python",
   "name": "python3"
  },
  "language_info": {
   "codemirror_mode": {
    "name": "ipython",
    "version": 3
   },
   "file_extension": ".py",
   "mimetype": "text/x-python",
   "name": "python",
   "nbconvert_exporter": "python",
   "pygments_lexer": "ipython3",
   "version": "3.12.2"
  }
 },
 "nbformat": 4,
 "nbformat_minor": 2
}
